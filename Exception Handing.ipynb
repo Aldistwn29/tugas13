{
 "cells": [
  {
   "cell_type": "markdown",
   "id": "c2ab6f09",
   "metadata": {},
   "source": [
    "1. Kapan pengecualian bawaan berikut dimunculkan? Berikan contoh untuk mendukung jawaban Anda. (score = 70)\n",
    "- ImportError\n",
    "- IOError\n",
    "- NameError\n",
    "- ZeroDivisionError\n",
    "2. Jelaskan hal berikut: (score = 30)\n",
    "- Exception Handling\n",
    "- Menangkap exception"
   ]
  },
  {
   "cell_type": "markdown",
   "id": "e8bb5151",
   "metadata": {},
   "source": [
    "# 1"
   ]
  },
  {
   "cell_type": "markdown",
   "id": "9dd86d8f",
   "metadata": {},
   "source": [
    "# a. ImportError . \n",
    "##### ImportError terjadi ketika sebuah program mencoba untuk mengimport modul atau paket yang tidak ditemukan atau tidak dapat diakses. Hal ini dapat terjadi karena modul atau paket tersebut tidak ada dalam sistem, atau karena tidak ada dalam PYTHONPATH (lokasi dimana Python mencari modul dan paket) atau karena terdapat kesalahan pada nama modul atau paket yang diimport. Contoh:"
   ]
  },
  {
   "cell_type": "code",
   "execution_count": 2,
   "id": "b93389e7",
   "metadata": {},
   "outputs": [
    {
     "ename": "ModuleNotFoundError",
     "evalue": "No module named 'modulAkay'",
     "output_type": "error",
     "traceback": [
      "\u001b[1;31m---------------------------------------------------------------------------\u001b[0m",
      "\u001b[1;31mModuleNotFoundError\u001b[0m                       Traceback (most recent call last)",
      "\u001b[1;32m~\\AppData\\Local\\Temp\\ipykernel_13960\\2372546587.py\u001b[0m in \u001b[0;36m<module>\u001b[1;34m\u001b[0m\n\u001b[0;32m      1\u001b[0m \u001b[1;31m# akan error karena modul mymodule tidak ada\u001b[0m\u001b[1;33m\u001b[0m\u001b[1;33m\u001b[0m\u001b[0m\n\u001b[1;32m----> 2\u001b[1;33m \u001b[1;32mimport\u001b[0m \u001b[0mmodulAkay\u001b[0m\u001b[1;33m\u001b[0m\u001b[1;33m\u001b[0m\u001b[0m\n\u001b[0m",
      "\u001b[1;31mModuleNotFoundError\u001b[0m: No module named 'modulAkay'"
     ]
    }
   ],
   "source": [
    "# akan error karena modul akaymodule tidak ada\n",
    "import modulAkay"
   ]
  },
  {
   "cell_type": "markdown",
   "id": "bc53dd70",
   "metadata": {},
   "source": [
    "# b. IOError\n",
    "##### IOError terjadi ketika sebuah program mengalami masalah saat melakukan operasi input/output seperti membaca atau menulis file. Hal ini dapat terjadi karena file yang akan dibaca atau ditulis tidak ditemukan, tidak dapat diakses karena hak akses yang tidak cukup, atau karena masalah lainnya seperti masalah jaringan atau masalah perangkat keras. Contoh:"
   ]
  },
  {
   "cell_type": "code",
   "execution_count": 3,
   "id": "275a9267",
   "metadata": {},
   "outputs": [
    {
     "ename": "FileNotFoundError",
     "evalue": "[Errno 2] No such file or directory: 'file.txt'",
     "output_type": "error",
     "traceback": [
      "\u001b[1;31m---------------------------------------------------------------------------\u001b[0m",
      "\u001b[1;31mFileNotFoundError\u001b[0m                         Traceback (most recent call last)",
      "\u001b[1;32m~\\AppData\\Local\\Temp\\ipykernel_13960\\2879375529.py\u001b[0m in \u001b[0;36m<module>\u001b[1;34m\u001b[0m\n\u001b[0;32m      1\u001b[0m \u001b[1;31m# akan error karena file tersebut tidak ada\u001b[0m\u001b[1;33m\u001b[0m\u001b[1;33m\u001b[0m\u001b[0m\n\u001b[0;32m      2\u001b[0m \u001b[1;31m# FileNotFoundError merupakan subclass dari IOError\u001b[0m\u001b[1;33m\u001b[0m\u001b[1;33m\u001b[0m\u001b[0m\n\u001b[1;32m----> 3\u001b[1;33m \u001b[0ma\u001b[0m \u001b[1;33m=\u001b[0m \u001b[0mopen\u001b[0m\u001b[1;33m(\u001b[0m\u001b[1;34m\"file.txt\"\u001b[0m\u001b[1;33m,\u001b[0m \u001b[1;34m\"r\"\u001b[0m\u001b[1;33m)\u001b[0m\u001b[1;33m\u001b[0m\u001b[1;33m\u001b[0m\u001b[0m\n\u001b[0m",
      "\u001b[1;31mFileNotFoundError\u001b[0m: [Errno 2] No such file or directory: 'file.txt'"
     ]
    }
   ],
   "source": [
    "# akan error karena file tersebut tidak ada\n",
    "# FileNotFoundError merupakan subclass dari IOError\n",
    "a = open(\"file.txt\", \"r\")"
   ]
  },
  {
   "cell_type": "markdown",
   "id": "42749ee0",
   "metadata": {},
   "source": [
    "# c. NameError\n",
    "###### NameError terjadi ketika sebuah variabel atau fungsi yang tidak didefinisikan diakses oleh program. Hal ini dapat terjadi karena kesalahan ketik atau karena sebuah variabel atau fungsi belum didefinisikan sebelum digunakan dalam program. Contoh:"
   ]
  },
  {
   "cell_type": "code",
   "execution_count": 5,
   "id": "80d0e6b4",
   "metadata": {},
   "outputs": [
    {
     "ename": "NameError",
     "evalue": "name 'AkayKu' is not defined",
     "output_type": "error",
     "traceback": [
      "\u001b[1;31m---------------------------------------------------------------------------\u001b[0m",
      "\u001b[1;31mNameError\u001b[0m                                 Traceback (most recent call last)",
      "\u001b[1;32m~\\AppData\\Local\\Temp\\ipykernel_13960\\889889980.py\u001b[0m in \u001b[0;36m<module>\u001b[1;34m\u001b[0m\n\u001b[0;32m      1\u001b[0m \u001b[1;31m# akan error karena variabel Akayku tidak pernah didefinisikan\u001b[0m\u001b[1;33m\u001b[0m\u001b[1;33m\u001b[0m\u001b[0m\n\u001b[1;32m----> 2\u001b[1;33m \u001b[0mprint\u001b[0m\u001b[1;33m(\u001b[0m\u001b[0mAkayKu\u001b[0m\u001b[1;33m)\u001b[0m\u001b[1;33m\u001b[0m\u001b[1;33m\u001b[0m\u001b[0m\n\u001b[0m",
      "\u001b[1;31mNameError\u001b[0m: name 'AkayKu' is not defined"
     ]
    }
   ],
   "source": [
    "# akan error karena variabel Akayku tidak pernah didefinisikan\n",
    "print(AkayKu)"
   ]
  },
  {
   "cell_type": "markdown",
   "id": "820939f2",
   "metadata": {},
   "source": [
    "# d. ZeroDivisionError\n",
    "##### ZeroDivisionError terjadi ketika sebuah bilangan dibagi dengan nol. Hal ini tidak dapat dilakukan dalam matematika, dan akan menyebabkan error dalam program. Contoh:"
   ]
  },
  {
   "cell_type": "code",
   "execution_count": 9,
   "id": "0e7efd40",
   "metadata": {},
   "outputs": [
    {
     "ename": "ZeroDivisionError",
     "evalue": "division by zero",
     "output_type": "error",
     "traceback": [
      "\u001b[1;31m---------------------------------------------------------------------------\u001b[0m",
      "\u001b[1;31mZeroDivisionError\u001b[0m                         Traceback (most recent call last)",
      "\u001b[1;32m~\\AppData\\Local\\Temp\\ipykernel_13960\\334743591.py\u001b[0m in \u001b[0;36m<module>\u001b[1;34m\u001b[0m\n\u001b[0;32m      1\u001b[0m \u001b[1;31m# akan error karena tidak bisa membagi dengan nol\u001b[0m\u001b[1;33m\u001b[0m\u001b[1;33m\u001b[0m\u001b[0m\n\u001b[1;32m----> 2\u001b[1;33m \u001b[0ma\u001b[0m \u001b[1;33m=\u001b[0m \u001b[1;36m2\u001b[0m\u001b[1;33m/\u001b[0m\u001b[1;36m0\u001b[0m\u001b[1;33m\u001b[0m\u001b[1;33m\u001b[0m\u001b[0m\n\u001b[0m",
      "\u001b[1;31mZeroDivisionError\u001b[0m: division by zero"
     ]
    }
   ],
   "source": [
    "# akan error karena tidak bisa membagi dengan nol\n",
    "a = 2/0"
   ]
  },
  {
   "cell_type": "markdown",
   "id": "349bab9a",
   "metadata": {},
   "source": [
    "# 2"
   ]
  },
  {
   "cell_type": "markdown",
   "id": "8bf32e60",
   "metadata": {},
   "source": [
    "# a Exception Handling\n",
    "##### Exception Handling adalah suatu proses menangani error yang mungkin terjadi dalam sebuah program. Hal ini dilakukan dengan menggunakan perintah try dan except yang digunakan untuk mengeksekusi kode yang mungkin menyebabkan error dan memberikan aksi yang sesuai jika terjadi error. Contoh:"
   ]
  },
  {
   "cell_type": "code",
   "execution_count": 10,
   "id": "c1d475eb",
   "metadata": {},
   "outputs": [
    {
     "name": "stdout",
     "output_type": "stream",
     "text": [
      "Tidak bisa melakukan pembagian\n"
     ]
    }
   ],
   "source": [
    "try:\n",
    "   a = 1/0\n",
    "except:\n",
    "   print(\"Tidak bisa melakukan pembagian\")"
   ]
  },
  {
   "cell_type": "markdown",
   "id": "ca0e4905",
   "metadata": {},
   "source": [
    "Pada contoh diatas, kode dalam blok try akan dicoba untuk dieksekusi. Jika terjadi error, maka kode dalam blok except akan dieksekusi."
   ]
  },
  {
   "cell_type": "markdown",
   "id": "c105a6e0",
   "metadata": {},
   "source": [
    "# b Menangkap Exception\n",
    "##### Menangkap exception berarti mencoba mendeteksi error-error tertentu yang mungkin terjadi dalam suatu kode program. Sebagai contoh, kita ingin mendeteksi error apabila kita ingin mengakses suatu karakter pada string dengan index yang tidak ada. Maka kita dapat menambahkan exception IndexError setelah except. Sebagai contoh:"
   ]
  },
  {
   "cell_type": "code",
   "execution_count": 15,
   "id": "94c52693",
   "metadata": {},
   "outputs": [
    {
     "name": "stdout",
     "output_type": "stream",
     "text": [
      "Masukan text: akay\n",
      "Tidak terdapat karakter dengan index ke 100 'akay'\n"
     ]
    }
   ],
   "source": [
    "try:\n",
    "    a = input(\"Masukan text: \")\n",
    "    print(a[100])\n",
    "except IndexError:\n",
    "   print(f\"Tidak terdapat karakter dengan index ke 100 '{a}'\")"
   ]
  },
  {
   "cell_type": "markdown",
   "id": "f578f521",
   "metadata": {},
   "source": [
    "Pada program diatas, kita mencoba menangkap exception IndexError yang kemungkinan terjadi jika panjang string kurang dari 101"
   ]
  }
 ],
 "metadata": {
  "kernelspec": {
   "display_name": "Python 3 (ipykernel)",
   "language": "python",
   "name": "python3"
  },
  "language_info": {
   "codemirror_mode": {
    "name": "ipython",
    "version": 3
   },
   "file_extension": ".py",
   "mimetype": "text/x-python",
   "name": "python",
   "nbconvert_exporter": "python",
   "pygments_lexer": "ipython3",
   "version": "3.9.13"
  }
 },
 "nbformat": 4,
 "nbformat_minor": 5
}
